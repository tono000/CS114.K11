{
  "nbformat": 4,
  "nbformat_minor": 0,
  "metadata": {
    "colab": {
      "name": "Feature-extract.ipynb",
      "provenance": [],
      "collapsed_sections": [],
      "include_colab_link": true
    },
    "kernelspec": {
      "name": "python3",
      "display_name": "Python 3"
    }
  },
  "cells": [
    {
      "cell_type": "markdown",
      "metadata": {
        "id": "view-in-github",
        "colab_type": "text"
      },
      "source": [
        "<a href=\"https://colab.research.google.com/github/tono000/CS114.K11/blob/master/Feature_extract.ipynb\" target=\"_parent\"><img src=\"https://colab.research.google.com/assets/colab-badge.svg\" alt=\"Open In Colab\"/></a>"
      ]
    },
    {
      "cell_type": "code",
      "metadata": {
        "id": "HLcg4ssKvVop",
        "colab_type": "code",
        "colab": {}
      },
      "source": [
        "import numpy as np\n",
        "import pandas as pd\n",
        "import os\n",
        "import matplotlib.pyplot as plt\n",
        "import math\n",
        "import cv2\n",
        "from sklearn.model_selection import train_test_split"
      ],
      "execution_count": 0,
      "outputs": []
    },
    {
      "cell_type": "code",
      "metadata": {
        "id": "b-e9Xdw121C0",
        "colab_type": "code",
        "colab": {}
      },
      "source": [
        "from sklearn.preprocessing import LabelEncoder\n",
        "from sklearn.linear_model import LogisticRegression\n",
        "from keras.applications import VGG16\n",
        "from keras.applications.vgg16 import preprocess_input\n",
        "from keras.applications import imagenet_utils\n",
        "from keras.preprocessing.image import img_to_array\n",
        "from keras.preprocessing.image import load_img\n",
        "from sklearn.preprocessing import LabelEncoder\n",
        "from sklearn.model_selection import train_test_split\n",
        "from sklearn.model_selection import GridSearchCV\n",
        "from imutils import paths\n",
        "import numpy as np\n",
        "import pickle\n",
        "import random\n",
        "\n"
      ],
      "execution_count": 0,
      "outputs": []
    },
    {
      "cell_type": "code",
      "metadata": {
        "id": "QJa6W1NreT02",
        "colab_type": "code",
        "outputId": "06fe070d-a90c-46e1-89a4-40e84642eaba",
        "colab": {
          "base_uri": "https://localhost:8080/",
          "height": 34
        }
      },
      "source": [
        "from google.colab import drive\n",
        "drive.mount('/mydrive',True)"
      ],
      "execution_count": 0,
      "outputs": [
        {
          "output_type": "stream",
          "text": [
            "Mounted at /mydrive\n"
          ],
          "name": "stdout"
        }
      ]
    },
    {
      "cell_type": "code",
      "metadata": {
        "id": "NP6ltuvGm3R7",
        "colab_type": "code",
        "outputId": "69852108-a5c3-4211-b3ab-fa28450a5b6d",
        "colab": {
          "base_uri": "https://localhost:8080/",
          "height": 34
        }
      },
      "source": [
        "path = '/mydrive/My Drive/hog_R_CNN_dataset'\n",
        "folder = path\n",
        "print(folder)"
      ],
      "execution_count": 0,
      "outputs": [
        {
          "output_type": "stream",
          "text": [
            "/mydrive/My Drive/hog_R_CNN_dataset\n"
          ],
          "name": "stdout"
        }
      ]
    },
    {
      "cell_type": "code",
      "metadata": {
        "id": "-uN0K2wekUWY",
        "colab_type": "code",
        "colab": {}
      },
      "source": [
        "model = VGG16(weights = 'imagenet', include_top = False)\n",
        "model.summary()"
      ],
      "execution_count": 0,
      "outputs": []
    },
    {
      "cell_type": "code",
      "metadata": {
        "id": "Myy_iT3NsCWc",
        "colab_type": "code",
        "colab": {}
      },
      "source": [
        "#Tạo dataframe labels\n",
        "dem=0\n",
        "data=[0,0]\n",
        "X = pd.DataFrame(columns=range(224*224))\n",
        "Y = pd.DataFrame(columns=range(1))\n",
        "from google.colab.patches import cv2_imshow\n",
        "\n",
        "for i in range(0,2):\n",
        "  temp_arr=[]\n",
        "  temp_label=[]\n",
        "  branch_folder = folder + \"/\" + os.listdir(folder)[i]\n",
        "  for filenames in os.listdir(branch_folder):\n",
        "          print(dem)\n",
        "          img=cv2.imread(branch_folder+'/'+filenames)\n",
        "          print(branch_folder+'/'+filenames)\n",
        "          imgCrop=img[0:((img.shape[0]-1)//2),]     \n",
        "          imgCrop=cv2.resize(imgCrop, (224,224))\n",
        "          arr=imgCrop.flatten()   \n",
        "          temp_arr.append(arr)\n",
        "          temp_label.append(1-i)\n",
        "          dem=dem+1\n",
        "          \n",
        "  t=pd.DataFrame(data = temp_arr)\n",
        "  X=X.append(t,ignore_index=True)\n",
        "  Y=Y.append(temp_label,ignore_index=True)    \n"
      ],
      "execution_count": 0,
      "outputs": []
    },
    {
      "cell_type": "code",
      "metadata": {
        "id": "78Mog7hbA6j2",
        "colab_type": "code",
        "outputId": "d028e5f7-7f13-43dd-8f2c-967d389ffda7",
        "colab": {
          "base_uri": "https://localhost:8080/",
          "height": 70
        }
      },
      "source": [
        "le = LabelEncoder()\n",
        "labels = le.fit_transform(Y)\n",
        "labels=pd.DataFrame(data = labels)"
      ],
      "execution_count": 0,
      "outputs": [
        {
          "output_type": "stream",
          "text": [
            "/usr/local/lib/python3.6/dist-packages/sklearn/preprocessing/label.py:235: DataConversionWarning: A column-vector y was passed when a 1d array was expected. Please change the shape of y to (n_samples, ), for example using ravel().\n",
            "  y = column_or_1d(y, warn=True)\n"
          ],
          "name": "stderr"
        }
      ]
    },
    {
      "cell_type": "code",
      "metadata": {
        "id": "Q-uWDgCVlfwA",
        "colab_type": "code",
        "colab": {}
      },
      "source": [
        "#Load ảnh\n",
        "list_image = []\n",
        "from google.colab.patches import cv2_imshow\n",
        "for i in range(0,2):\n",
        "  temp_arr=[]\n",
        "  branch_folder = folder + \"/\" + os.listdir(folder)[i]\n",
        "  for imagePath in os.listdir(branch_folder):\n",
        "\n",
        "      #resize ảnh về 224x224 pixels\n",
        "      \n",
        "        image = load_img(branch_folder+\"/\"+imagePath,color_mode='rgb',target_size=(448,224))\n",
        "        \n",
        "        print(imagePath)\n",
        "        print(image)\n",
        "        \n",
        "        image = img_to_array(image)\n",
        "        image=image[0:224,]\n",
        "\n",
        "        #image = cv2.cvtColor(image, cv2.COLOR_BGR2GRAY)\n",
        "        image = preprocess_input(image)\n",
        "        cv2_imshow(image)\n",
        "        image = np.expand_dims(image, axis = 0)\n",
        "        list_image.append(image)      \n",
        "    \n",
        "      \n",
        "list_image = np.vstack(list_image)"
      ],
      "execution_count": 0,
      "outputs": []
    },
    {
      "cell_type": "code",
      "metadata": {
        "id": "_AmMPV2Zn4JY",
        "colab_type": "code",
        "colab": {}
      },
      "source": [
        "#Lấy feature từ lớp feature extract của VGG\n",
        "features = model.predict(list_image)\n",
        "features = features.reshape((features.shape[0], 512*7*7))"
      ],
      "execution_count": 0,
      "outputs": []
    },
    {
      "cell_type": "code",
      "metadata": {
        "id": "sRqAKdp20aCd",
        "colab_type": "code",
        "colab": {}
      },
      "source": [
        "#plit tỉ lệ 80/20\n",
        "from keras.utils.np_utils import to_categorical\n",
        "x_train, x_test, y_train, y_test = train_test_split(features, labels, test_size=0.2, random_state=42)"
      ],
      "execution_count": 0,
      "outputs": []
    },
    {
      "cell_type": "code",
      "metadata": {
        "colab_type": "code",
        "id": "lMNCUj3Sn3N5",
        "colab": {}
      },
      "source": [
        "#Train\n",
        "params = {'C' : [0.1, 1.0, 10.0, 100.0]}\n",
        "LogReg = GridSearchCV(LogisticRegression(), params)\n",
        "LogReg.fit(x_train, y_train)"
      ],
      "execution_count": 0,
      "outputs": []
    },
    {
      "cell_type": "code",
      "metadata": {
        "colab_type": "code",
        "outputId": "3acc89f0-a2f3-41ae-c90f-e6f65e2ba644",
        "id": "bIeM9ngoLW7S",
        "colab": {
          "base_uri": "https://localhost:8080/",
          "height": 235
        }
      },
      "source": [
        "#Evaluate trên test\n",
        "from sklearn.metrics import classification_report\n",
        "y_pred=LogReg.predict(x_test)\n",
        "\n",
        "print(y_pred)\n",
        "\n",
        "print(y_test.values.ravel())\n",
        "print(y_test.index.values.ravel())\n",
        "print(classification_report(y_test, y_pred))"
      ],
      "execution_count": 0,
      "outputs": [
        {
          "output_type": "stream",
          "text": [
            "[1 1 1 1 1 1 0 1 0 1 1 0 0 1 1 1 0 0 0 1 0 1 1 1 1 1 0 1 0]\n",
            "[1 0 1 1 1 0 0 0 0 1 1 1 0 1 1 1 0 0 0 0 0 0 1 1 1 1 1 1 0]\n",
            "[ 69 140  27  19  42 117 126 108  84  18  12  55 128  78  73  36 112 133\n",
            " 100 101  94 136  11  66  31  45  51  76 111]\n",
            "              precision    recall  f1-score   support\n",
            "\n",
            "           0       0.80      0.62      0.70        13\n",
            "           1       0.74      0.88      0.80        16\n",
            "\n",
            "    accuracy                           0.76        29\n",
            "   macro avg       0.77      0.75      0.75        29\n",
            "weighted avg       0.77      0.76      0.75        29\n",
            "\n"
          ],
          "name": "stdout"
        }
      ]
    },
    {
      "cell_type": "code",
      "metadata": {
        "id": "eMgA2XNaXPvu",
        "colab_type": "code",
        "outputId": "f6c78685-7154-455f-a74b-75517e677979",
        "colab": {
          "base_uri": "https://localhost:8080/",
          "height": 286
        }
      },
      "source": [
        "#Thử evalate lại trên train\n",
        "from sklearn.metrics import classification_report\n",
        "y_pred=LogReg.predict(x_train)\n",
        "print(y_train.index.values.ravel())\n",
        "print(classification_report(y_train, y_pred))"
      ],
      "execution_count": 0,
      "outputs": [
        {
          "output_type": "stream",
          "text": [
            "[  9   4  26 120 125  16  10 118  60  67  98 110  97 114   0  65  28  40\n",
            "  85  24  25  23  80  68  44  15  96  39  56  22  64  81 134  47  30  89\n",
            " 132  33  82  93  62  95 119  53   5  86 143  49  35  77  34 104   7  43\n",
            "  70 113  83 124 131   8  13 109 115   3  17  38  72 137   6 138   2 123\n",
            "  54  50 105  46 141  61 142  79 122  91  41  58  90  48  88 127  21  57\n",
            "  75  32 139  59  63 129  37  29 107 135   1  52 130 103  99 116  87  74\n",
            " 121 144  20  71 106  14  92 102]\n",
            "              precision    recall  f1-score   support\n",
            "\n",
            "           0       1.00      1.00      1.00        51\n",
            "           1       1.00      1.00      1.00        65\n",
            "\n",
            "    accuracy                           1.00       116\n",
            "   macro avg       1.00      1.00      1.00       116\n",
            "weighted avg       1.00      1.00      1.00       116\n",
            "\n"
          ],
          "name": "stdout"
        }
      ]
    }
  ]
}
