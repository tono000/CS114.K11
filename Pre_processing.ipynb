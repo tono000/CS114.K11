{
  "nbformat": 4,
  "nbformat_minor": 0,
  "metadata": {
    "colab": {
      "name": "Pre-processing.ipynb",
      "provenance": [],
      "collapsed_sections": [],
      "include_colab_link": true
    },
    "kernelspec": {
      "name": "python3",
      "display_name": "Python 3"
    }
  },
  "cells": [
    {
      "cell_type": "markdown",
      "metadata": {
        "id": "view-in-github",
        "colab_type": "text"
      },
      "source": [
        "<a href=\"https://colab.research.google.com/github/tono000/CS114.K11/blob/master/Pre_processing.ipynb\" target=\"_parent\"><img src=\"https://colab.research.google.com/assets/colab-badge.svg\" alt=\"Open In Colab\"/></a>"
      ]
    },
    {
      "cell_type": "code",
      "metadata": {
        "id": "15A3ByAeR7cL",
        "colab_type": "code",
        "colab": {}
      },
      "source": [
        "import numpy as np\n",
        "import pandas as pd\n",
        "import os\n",
        "import matplotlib.pyplot as plt\n",
        "import math\n",
        "from sklearn.model_selection import train_test_split\n",
        "import random\n",
        "import time\n",
        "import cv2\n",
        "import imutils"
      ],
      "execution_count": 0,
      "outputs": []
    },
    {
      "cell_type": "code",
      "metadata": {
        "id": "yk3ckdPKSNJR",
        "colab_type": "code",
        "colab": {}
      },
      "source": [
        "from google.colab import drive\n",
        "drive.mount('/mydrive',True)"
      ],
      "execution_count": 0,
      "outputs": []
    },
    {
      "cell_type": "code",
      "metadata": {
        "id": "g6jku3C8SOWJ",
        "colab_type": "code",
        "colab": {}
      },
      "source": [
        "path = '/mydrive/My Drive/Dataset_cuoiki'\n",
        "folder = path\n",
        "print(folder)"
      ],
      "execution_count": 0,
      "outputs": []
    },
    {
      "cell_type": "markdown",
      "metadata": {
        "id": "jHvhNY0TRpdM",
        "colab_type": "text"
      },
      "source": [
        "**Cắt hình ảnh sử dụng hog**"
      ]
    },
    {
      "cell_type": "code",
      "metadata": {
        "id": "TXqxz_nbSVbt",
        "colab_type": "code",
        "colab": {}
      },
      "source": [
        "from imutils.object_detection import non_max_suppression\n",
        "from imutils import paths\n",
        "\n",
        "# Khởi tạo\n",
        "hog = cv2.HOGDescriptor()\n",
        "hog.setSVMDetector(cv2.HOGDescriptor_getDefaultPeopleDetector())"
      ],
      "execution_count": 0,
      "outputs": []
    },
    {
      "cell_type": "code",
      "metadata": {
        "id": "Azq--BeASdR5",
        "colab_type": "code",
        "colab": {}
      },
      "source": [
        "from google.colab.patches import cv2_imshow \n",
        "import time\n",
        "\n",
        "dem=0\n",
        "start=time.time()\n",
        "for i in os.listdir(folder):\n",
        "\n",
        "    # load the image and resize it to (1) reduce detection time\n",
        "    # and (2) improve detection accuracy\n",
        "    image = cv2.imread(folder+'/'+i)\n",
        "    image = imutils.resize(image, width=min(400, image.shape[1]))\n",
        "    orig = image.copy()\n",
        "\n",
        "    # detect people in the image\n",
        "    (rects, weights) = hog.detectMultiScale(image, winStride=(4, 4),\n",
        "      padding=(8, 8), scale=1.05)\n",
        "\n",
        "   \n",
        "    # apply non-maxima suppression to the bounding boxes using a\n",
        "    # fairly large overlap threshold to try to maintain overlapping\n",
        "    # boxes that are still people\n",
        "    rects = np.array([[x, y, x + w, y + h] for (x, y, w, h) in rects])\n",
        "    pick = non_max_suppression(rects, probs=None, overlapThresh=0)\n",
        "\n",
        "    # draw the final bounding boxes\n",
        "    #for (xA, yA, xB, yB) in pick:\n",
        "    #  cv2.rectangle(image, (xA, yA), (xB, yB), (0, 255, 0), 2)\n",
        "    dem=dem+1\n",
        "\n",
        "    if len(pick)!=0:\n",
        "      (x,y,w,h)=pick[0]\n",
        "      print('i=',i)\n",
        "      imgCrop = image[y:h,x:w]\n",
        "      #imgCrop=cv2.resize(imgCrop,(50,50))\n",
        "      #imgCrop = cv2.cvtColor(imgCrop, cv2.COLOR_BGR2GRAY)\n",
        "      cv2_imshow(imgCrop)\n",
        "      uploaded='/mydrive/My Drive/hog_dataset/'+str(dem)+'.jpg'\n",
        "      #dem=dem+1\n",
        "      cv2.imwrite(uploaded,imgCrop)\n",
        "    # show the output images\n",
        "    #cv2_imshow(image)\n",
        "    #cv2.waitKey(0)\n",
        "\n",
        "end=time.time()"
      ],
      "execution_count": 0,
      "outputs": []
    },
    {
      "cell_type": "markdown",
      "metadata": {
        "id": "vG03Zt_ZSjZz",
        "colab_type": "text"
      },
      "source": [
        "**Instance segmentation sử dụng R-CNN**"
      ]
    },
    {
      "cell_type": "code",
      "metadata": {
        "id": "l-5LC21hSokY",
        "colab_type": "code",
        "colab": {}
      },
      "source": [
        "# Khởi tạo\n",
        "model_fol='/mydrive/My Drive/R-CNN instance segmentation'\n",
        "LABELS = open(model_fol+'/object_detection_classes_coco.txt').read().strip().split(\"\\n\")\n",
        "\n",
        "weightsPath = model_fol+'/frozen_inference_graph.pb'\n",
        "configPath = model_fol+'/mask_rcnn_inception_v2_coco_2018_01_28.pbtxt'\n",
        "\n",
        "print(\"[INFO] loading Mask R-CNN from disk...\")\n",
        "net = cv2.dnn.readNetFromTensorflow(weightsPath, configPath)"
      ],
      "execution_count": 0,
      "outputs": []
    },
    {
      "cell_type": "code",
      "metadata": {
        "id": "hs66xlEkTAhQ",
        "colab_type": "code",
        "colab": {}
      },
      "source": [
        "from google.colab.patches import cv2_imshow \n",
        "dem=0\n",
        "start1 = time.time()\n",
        "\n",
        "for file_name in os.listdir(folder):\n",
        "\tnet = cv2.dnn.readNetFromTensorflow(weightsPath, configPath)\n",
        "\n",
        "\t# load ảnh\n",
        "\timage = cv2.imread(folder+'/'+file_name)\n",
        "\timage = imutils.resize(image, width=600)\t\n",
        "\t(H, W) = image.shape[:2]\n",
        "\tprint(file_name)\n",
        "\n",
        "\t# Preprocess tạo một blob làm ảnh đầu vào cho R-CNN\n",
        "\tblob = cv2.dnn.blobFromImage(image, swapRB=True, crop=False)\n",
        "\tnet.setInput(blob)\n",
        "\tprint('blob ok')\n",
        "\n",
        "\tstart = time.time()\n",
        "\t(boxes, masks) = net.forward([\"detection_out_final\", \"detection_masks\"])\n",
        "\tprint(\"[INFO] boxes shape: {}\".format(boxes.shape))\n",
        "\n",
        "\tend = time.time()\n",
        "\tidxs = np.argsort(boxes[0, 0, :, 2])[::-1]\n",
        "\tmask = None\n",
        "\troi = None\n",
        "\tcoords = None\n",
        "\n",
        "\tfor i in range(0, boxes.shape[2]):\n",
        "\t\t# lấy confidence (probability) để xét xem nó là người bao nhiêu phần trăm\n",
        "\t\tclassID = int(boxes[0, 0, i, 1])\n",
        "\t\tconfidence = boxes[0, 0, i, 2]\n",
        "\t\tprint(confidence)\n",
        "\n",
        "\n",
        "\t\tif LABELS[classID] != \"person\":\n",
        "\t\t\tcontinue\n",
        "\t\t# loại bỏ những đối tượng ko phải là người\n",
        "\t\tif confidence > 0.5:\n",
        "\t\t\tclone = image.copy()\n",
        "\t\t\tprint('c',confidence)\n",
        "\t\t\n",
        "\t\t\t# tạo ô xung quanh đối tượng\n",
        "\t\t\tbox = boxes[0, 0, i, 3:7] * np.array([W, H, W, H])\n",
        "\t\t\t(startX, startY, endX, endY) = box.astype(\"int\")\n",
        "\t\t\tboxW = endX - startX\n",
        "\t\t\tboxH = endY - startY\n",
        "\n",
        "\t\t\t# gán nhãn cho đối tượng\n",
        "\t\t\tmask = masks[i, classID]\n",
        "\t\t\tmask = cv2.resize(mask, (boxW, boxH),\n",
        "\t\t\t\tinterpolation=cv2.INTER_NEAREST)\n",
        "\t\t\tmask = (mask > 0.3)\n",
        "\n",
        "\t\t\t# cắt phần ảnh có đói tượng\n",
        "\t\t\troi = clone[startY:endY, startX:endX]\n",
        "\n",
        "\n",
        "\t\t\tif 1> 0:\n",
        "\t\t\t\t# extract ra ảnh vào thư mục\n",
        "\t\t\t\tvisMask = (mask * 255).astype(\"uint8\")\n",
        "\t\t\t\tinstance = cv2.bitwise_and(roi, roi, mask=visMask)\n",
        "\n",
        "\t\t\t\tuploaded='/mydrive/My Drive/hog_RCNN dataset/roi'+str(dem)+'.jpg'\n",
        "\t\t\t\tdem=dem+1\n",
        "\t\t\t\tcv2.imwrite(uploaded,roi)\n",
        "\t\t\t\t\n",
        "\t\t\t\tuploaded='/mydrive/My Drive/hog_RCNN dataset/visMask'+str(dem)+'.jpg'\n",
        "\t\t\t\tcv2.imwrite(uploaded,visMask)\n",
        "\t\t\t\t\n",
        "\t\t\t\tuploaded='/mydrive/My Drive/hog_RCNN dataset/instance'+str(dem)+'.jpg'\n",
        "\t\t\t\tcv2.imwrite(uploaded,instance)\n",
        "\t\t\t\tprint(dem)\n",
        "\t\t\t\tbreak\n",
        "\n",
        "end1 = time.time()\n"
      ],
      "execution_count": 0,
      "outputs": []
    }
  ]
}